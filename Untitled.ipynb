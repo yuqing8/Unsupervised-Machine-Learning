{
 "cells": [
  {
   "cell_type": "code",
   "execution_count": 34,
   "id": "5b86696f",
   "metadata": {},
   "outputs": [],
   "source": [
    "import matplotlib.pyplot as plt\n",
    "import pandas as pd\n",
    "import numpy as np\n",
    "from sklearn.cluster import KMeans\n",
    "from pathlib import Path\n",
    "from sklearn.preprocessing import StandardScaler\n",
    "from sklearn.decomposition import PCA"
   ]
  },
  {
   "cell_type": "code",
   "execution_count": 2,
   "id": "81e2d48a",
   "metadata": {},
   "outputs": [
    {
     "data": {
      "text/html": [
       "<div>\n",
       "<style scoped>\n",
       "    .dataframe tbody tr th:only-of-type {\n",
       "        vertical-align: middle;\n",
       "    }\n",
       "\n",
       "    .dataframe tbody tr th {\n",
       "        vertical-align: top;\n",
       "    }\n",
       "\n",
       "    .dataframe thead th {\n",
       "        text-align: right;\n",
       "    }\n",
       "</style>\n",
       "<table border=\"1\" class=\"dataframe\">\n",
       "  <thead>\n",
       "    <tr style=\"text-align: right;\">\n",
       "      <th></th>\n",
       "      <th>Unnamed: 0</th>\n",
       "      <th>CoinName</th>\n",
       "      <th>Algorithm</th>\n",
       "      <th>IsTrading</th>\n",
       "      <th>ProofType</th>\n",
       "      <th>TotalCoinsMined</th>\n",
       "      <th>TotalCoinSupply</th>\n",
       "    </tr>\n",
       "  </thead>\n",
       "  <tbody>\n",
       "    <tr>\n",
       "      <th>0</th>\n",
       "      <td>42</td>\n",
       "      <td>42 Coin</td>\n",
       "      <td>Scrypt</td>\n",
       "      <td>True</td>\n",
       "      <td>PoW/PoS</td>\n",
       "      <td>4.199995e+01</td>\n",
       "      <td>42</td>\n",
       "    </tr>\n",
       "    <tr>\n",
       "      <th>1</th>\n",
       "      <td>365</td>\n",
       "      <td>365Coin</td>\n",
       "      <td>X11</td>\n",
       "      <td>True</td>\n",
       "      <td>PoW/PoS</td>\n",
       "      <td>NaN</td>\n",
       "      <td>2300000000</td>\n",
       "    </tr>\n",
       "    <tr>\n",
       "      <th>2</th>\n",
       "      <td>404</td>\n",
       "      <td>404Coin</td>\n",
       "      <td>Scrypt</td>\n",
       "      <td>True</td>\n",
       "      <td>PoW/PoS</td>\n",
       "      <td>1.055185e+09</td>\n",
       "      <td>532000000</td>\n",
       "    </tr>\n",
       "    <tr>\n",
       "      <th>3</th>\n",
       "      <td>611</td>\n",
       "      <td>SixEleven</td>\n",
       "      <td>SHA-256</td>\n",
       "      <td>True</td>\n",
       "      <td>PoW</td>\n",
       "      <td>NaN</td>\n",
       "      <td>611000</td>\n",
       "    </tr>\n",
       "    <tr>\n",
       "      <th>4</th>\n",
       "      <td>808</td>\n",
       "      <td>808</td>\n",
       "      <td>SHA-256</td>\n",
       "      <td>True</td>\n",
       "      <td>PoW/PoS</td>\n",
       "      <td>0.000000e+00</td>\n",
       "      <td>0</td>\n",
       "    </tr>\n",
       "    <tr>\n",
       "      <th>...</th>\n",
       "      <td>...</td>\n",
       "      <td>...</td>\n",
       "      <td>...</td>\n",
       "      <td>...</td>\n",
       "      <td>...</td>\n",
       "      <td>...</td>\n",
       "      <td>...</td>\n",
       "    </tr>\n",
       "    <tr>\n",
       "      <th>1247</th>\n",
       "      <td>XBC</td>\n",
       "      <td>BitcoinPlus</td>\n",
       "      <td>Scrypt</td>\n",
       "      <td>True</td>\n",
       "      <td>PoS</td>\n",
       "      <td>1.283270e+05</td>\n",
       "      <td>1000000</td>\n",
       "    </tr>\n",
       "    <tr>\n",
       "      <th>1248</th>\n",
       "      <td>DVTC</td>\n",
       "      <td>DivotyCoin</td>\n",
       "      <td>Scrypt</td>\n",
       "      <td>False</td>\n",
       "      <td>PoW/PoS</td>\n",
       "      <td>2.149121e+07</td>\n",
       "      <td>100000000</td>\n",
       "    </tr>\n",
       "    <tr>\n",
       "      <th>1249</th>\n",
       "      <td>GIOT</td>\n",
       "      <td>Giotto Coin</td>\n",
       "      <td>Scrypt</td>\n",
       "      <td>False</td>\n",
       "      <td>PoW/PoS</td>\n",
       "      <td>NaN</td>\n",
       "      <td>233100000</td>\n",
       "    </tr>\n",
       "    <tr>\n",
       "      <th>1250</th>\n",
       "      <td>OPSC</td>\n",
       "      <td>OpenSourceCoin</td>\n",
       "      <td>SHA-256</td>\n",
       "      <td>False</td>\n",
       "      <td>PoW/PoS</td>\n",
       "      <td>NaN</td>\n",
       "      <td>21000000</td>\n",
       "    </tr>\n",
       "    <tr>\n",
       "      <th>1251</th>\n",
       "      <td>PUNK</td>\n",
       "      <td>SteamPunk</td>\n",
       "      <td>PoS</td>\n",
       "      <td>False</td>\n",
       "      <td>PoS</td>\n",
       "      <td>NaN</td>\n",
       "      <td>40000000</td>\n",
       "    </tr>\n",
       "  </tbody>\n",
       "</table>\n",
       "<p>1252 rows × 7 columns</p>\n",
       "</div>"
      ],
      "text/plain": [
       "     Unnamed: 0        CoinName Algorithm  IsTrading ProofType  \\\n",
       "0            42         42 Coin    Scrypt       True   PoW/PoS   \n",
       "1           365         365Coin       X11       True   PoW/PoS   \n",
       "2           404         404Coin    Scrypt       True   PoW/PoS   \n",
       "3           611       SixEleven   SHA-256       True       PoW   \n",
       "4           808             808   SHA-256       True   PoW/PoS   \n",
       "...         ...             ...       ...        ...       ...   \n",
       "1247        XBC     BitcoinPlus    Scrypt       True       PoS   \n",
       "1248       DVTC      DivotyCoin    Scrypt      False   PoW/PoS   \n",
       "1249       GIOT     Giotto Coin    Scrypt      False   PoW/PoS   \n",
       "1250       OPSC  OpenSourceCoin   SHA-256      False   PoW/PoS   \n",
       "1251       PUNK       SteamPunk       PoS      False       PoS   \n",
       "\n",
       "      TotalCoinsMined TotalCoinSupply  \n",
       "0        4.199995e+01              42  \n",
       "1                 NaN      2300000000  \n",
       "2        1.055185e+09       532000000  \n",
       "3                 NaN          611000  \n",
       "4        0.000000e+00               0  \n",
       "...               ...             ...  \n",
       "1247     1.283270e+05         1000000  \n",
       "1248     2.149121e+07       100000000  \n",
       "1249              NaN       233100000  \n",
       "1250              NaN        21000000  \n",
       "1251              NaN        40000000  \n",
       "\n",
       "[1252 rows x 7 columns]"
      ]
     },
     "execution_count": 2,
     "metadata": {},
     "output_type": "execute_result"
    }
   ],
   "source": [
    "# Loading data\n",
    "\n",
    "df = pd.read_csv('crypto_data.csv')\n",
    "df"
   ]
  },
  {
   "cell_type": "code",
   "execution_count": 3,
   "id": "be3e9912",
   "metadata": {},
   "outputs": [],
   "source": [
    "df = df[df['IsTrading'] == True]"
   ]
  },
  {
   "cell_type": "code",
   "execution_count": 4,
   "id": "eebd6007",
   "metadata": {},
   "outputs": [
    {
     "data": {
      "text/plain": [
       "True    1144\n",
       "Name: IsTrading, dtype: int64"
      ]
     },
     "execution_count": 4,
     "metadata": {},
     "output_type": "execute_result"
    }
   ],
   "source": [
    "df['IsTrading'].value_counts()"
   ]
  },
  {
   "cell_type": "code",
   "execution_count": 5,
   "id": "29c171a0",
   "metadata": {},
   "outputs": [
    {
     "name": "stderr",
     "output_type": "stream",
     "text": [
      "<ipython-input-5-0d312dd60a29>:1: SettingWithCopyWarning: \n",
      "A value is trying to be set on a copy of a slice from a DataFrame\n",
      "\n",
      "See the caveats in the documentation: https://pandas.pydata.org/pandas-docs/stable/user_guide/indexing.html#returning-a-view-versus-a-copy\n",
      "  df.dropna(axis=0, how='any',inplace=True)\n"
     ]
    }
   ],
   "source": [
    "df.dropna(axis=0, how='any',inplace=True)"
   ]
  },
  {
   "cell_type": "code",
   "execution_count": 6,
   "id": "34032354",
   "metadata": {},
   "outputs": [
    {
     "data": {
      "text/plain": [
       "True    532\n",
       "Name: IsTrading, dtype: int64"
      ]
     },
     "execution_count": 6,
     "metadata": {},
     "output_type": "execute_result"
    }
   ],
   "source": [
    "df = df[df['TotalCoinsMined']>0]\n",
    "df['IsTrading'].value_counts()"
   ]
  },
  {
   "cell_type": "code",
   "execution_count": 15,
   "id": "15a1b0d4",
   "metadata": {},
   "outputs": [
    {
     "ename": "KeyError",
     "evalue": "\"['CoinName' 'Unnamed: 0' 'IsTrading'] not found in axis\"",
     "output_type": "error",
     "traceback": [
      "\u001b[0;31m---------------------------------------------------------------------------\u001b[0m",
      "\u001b[0;31mKeyError\u001b[0m                                  Traceback (most recent call last)",
      "\u001b[0;32m<ipython-input-15-e5ceb6028377>\u001b[0m in \u001b[0;36m<module>\u001b[0;34m\u001b[0m\n\u001b[0;32m----> 1\u001b[0;31m \u001b[0mdf\u001b[0m \u001b[0;34m=\u001b[0m \u001b[0mdf\u001b[0m\u001b[0;34m.\u001b[0m\u001b[0mdrop\u001b[0m\u001b[0;34m(\u001b[0m\u001b[0;34m[\u001b[0m\u001b[0;34m'CoinName'\u001b[0m\u001b[0;34m,\u001b[0m\u001b[0;34m'Unnamed: 0'\u001b[0m\u001b[0;34m,\u001b[0m\u001b[0;34m'IsTrading'\u001b[0m\u001b[0;34m]\u001b[0m\u001b[0;34m,\u001b[0m \u001b[0maxis\u001b[0m\u001b[0;34m=\u001b[0m\u001b[0;36m1\u001b[0m\u001b[0;34m)\u001b[0m\u001b[0;34m\u001b[0m\u001b[0;34m\u001b[0m\u001b[0m\n\u001b[0m\u001b[1;32m      2\u001b[0m \u001b[0mdf\u001b[0m\u001b[0;34m\u001b[0m\u001b[0;34m\u001b[0m\u001b[0m\n",
      "\u001b[0;32m~/anaconda3/lib/python3.8/site-packages/pandas/core/frame.py\u001b[0m in \u001b[0;36mdrop\u001b[0;34m(self, labels, axis, index, columns, level, inplace, errors)\u001b[0m\n\u001b[1;32m   4306\u001b[0m                 \u001b[0mweight\u001b[0m  \u001b[0;36m1.0\u001b[0m     \u001b[0;36m0.8\u001b[0m\u001b[0;34m\u001b[0m\u001b[0;34m\u001b[0m\u001b[0m\n\u001b[1;32m   4307\u001b[0m         \"\"\"\n\u001b[0;32m-> 4308\u001b[0;31m         return super().drop(\n\u001b[0m\u001b[1;32m   4309\u001b[0m             \u001b[0mlabels\u001b[0m\u001b[0;34m=\u001b[0m\u001b[0mlabels\u001b[0m\u001b[0;34m,\u001b[0m\u001b[0;34m\u001b[0m\u001b[0;34m\u001b[0m\u001b[0m\n\u001b[1;32m   4310\u001b[0m             \u001b[0maxis\u001b[0m\u001b[0;34m=\u001b[0m\u001b[0maxis\u001b[0m\u001b[0;34m,\u001b[0m\u001b[0;34m\u001b[0m\u001b[0;34m\u001b[0m\u001b[0m\n",
      "\u001b[0;32m~/anaconda3/lib/python3.8/site-packages/pandas/core/generic.py\u001b[0m in \u001b[0;36mdrop\u001b[0;34m(self, labels, axis, index, columns, level, inplace, errors)\u001b[0m\n\u001b[1;32m   4151\u001b[0m         \u001b[0;32mfor\u001b[0m \u001b[0maxis\u001b[0m\u001b[0;34m,\u001b[0m \u001b[0mlabels\u001b[0m \u001b[0;32min\u001b[0m \u001b[0maxes\u001b[0m\u001b[0;34m.\u001b[0m\u001b[0mitems\u001b[0m\u001b[0;34m(\u001b[0m\u001b[0;34m)\u001b[0m\u001b[0;34m:\u001b[0m\u001b[0;34m\u001b[0m\u001b[0;34m\u001b[0m\u001b[0m\n\u001b[1;32m   4152\u001b[0m             \u001b[0;32mif\u001b[0m \u001b[0mlabels\u001b[0m \u001b[0;32mis\u001b[0m \u001b[0;32mnot\u001b[0m \u001b[0;32mNone\u001b[0m\u001b[0;34m:\u001b[0m\u001b[0;34m\u001b[0m\u001b[0;34m\u001b[0m\u001b[0m\n\u001b[0;32m-> 4153\u001b[0;31m                 \u001b[0mobj\u001b[0m \u001b[0;34m=\u001b[0m \u001b[0mobj\u001b[0m\u001b[0;34m.\u001b[0m\u001b[0m_drop_axis\u001b[0m\u001b[0;34m(\u001b[0m\u001b[0mlabels\u001b[0m\u001b[0;34m,\u001b[0m \u001b[0maxis\u001b[0m\u001b[0;34m,\u001b[0m \u001b[0mlevel\u001b[0m\u001b[0;34m=\u001b[0m\u001b[0mlevel\u001b[0m\u001b[0;34m,\u001b[0m \u001b[0merrors\u001b[0m\u001b[0;34m=\u001b[0m\u001b[0merrors\u001b[0m\u001b[0;34m)\u001b[0m\u001b[0;34m\u001b[0m\u001b[0;34m\u001b[0m\u001b[0m\n\u001b[0m\u001b[1;32m   4154\u001b[0m \u001b[0;34m\u001b[0m\u001b[0m\n\u001b[1;32m   4155\u001b[0m         \u001b[0;32mif\u001b[0m \u001b[0minplace\u001b[0m\u001b[0;34m:\u001b[0m\u001b[0;34m\u001b[0m\u001b[0;34m\u001b[0m\u001b[0m\n",
      "\u001b[0;32m~/anaconda3/lib/python3.8/site-packages/pandas/core/generic.py\u001b[0m in \u001b[0;36m_drop_axis\u001b[0;34m(self, labels, axis, level, errors)\u001b[0m\n\u001b[1;32m   4186\u001b[0m                 \u001b[0mnew_axis\u001b[0m \u001b[0;34m=\u001b[0m \u001b[0maxis\u001b[0m\u001b[0;34m.\u001b[0m\u001b[0mdrop\u001b[0m\u001b[0;34m(\u001b[0m\u001b[0mlabels\u001b[0m\u001b[0;34m,\u001b[0m \u001b[0mlevel\u001b[0m\u001b[0;34m=\u001b[0m\u001b[0mlevel\u001b[0m\u001b[0;34m,\u001b[0m \u001b[0merrors\u001b[0m\u001b[0;34m=\u001b[0m\u001b[0merrors\u001b[0m\u001b[0;34m)\u001b[0m\u001b[0;34m\u001b[0m\u001b[0;34m\u001b[0m\u001b[0m\n\u001b[1;32m   4187\u001b[0m             \u001b[0;32melse\u001b[0m\u001b[0;34m:\u001b[0m\u001b[0;34m\u001b[0m\u001b[0;34m\u001b[0m\u001b[0m\n\u001b[0;32m-> 4188\u001b[0;31m                 \u001b[0mnew_axis\u001b[0m \u001b[0;34m=\u001b[0m \u001b[0maxis\u001b[0m\u001b[0;34m.\u001b[0m\u001b[0mdrop\u001b[0m\u001b[0;34m(\u001b[0m\u001b[0mlabels\u001b[0m\u001b[0;34m,\u001b[0m \u001b[0merrors\u001b[0m\u001b[0;34m=\u001b[0m\u001b[0merrors\u001b[0m\u001b[0;34m)\u001b[0m\u001b[0;34m\u001b[0m\u001b[0;34m\u001b[0m\u001b[0m\n\u001b[0m\u001b[1;32m   4189\u001b[0m             \u001b[0mresult\u001b[0m \u001b[0;34m=\u001b[0m \u001b[0mself\u001b[0m\u001b[0;34m.\u001b[0m\u001b[0mreindex\u001b[0m\u001b[0;34m(\u001b[0m\u001b[0;34m**\u001b[0m\u001b[0;34m{\u001b[0m\u001b[0maxis_name\u001b[0m\u001b[0;34m:\u001b[0m \u001b[0mnew_axis\u001b[0m\u001b[0;34m}\u001b[0m\u001b[0;34m)\u001b[0m\u001b[0;34m\u001b[0m\u001b[0;34m\u001b[0m\u001b[0m\n\u001b[1;32m   4190\u001b[0m \u001b[0;34m\u001b[0m\u001b[0m\n",
      "\u001b[0;32m~/anaconda3/lib/python3.8/site-packages/pandas/core/indexes/base.py\u001b[0m in \u001b[0;36mdrop\u001b[0;34m(self, labels, errors)\u001b[0m\n\u001b[1;32m   5589\u001b[0m         \u001b[0;32mif\u001b[0m \u001b[0mmask\u001b[0m\u001b[0;34m.\u001b[0m\u001b[0many\u001b[0m\u001b[0;34m(\u001b[0m\u001b[0;34m)\u001b[0m\u001b[0;34m:\u001b[0m\u001b[0;34m\u001b[0m\u001b[0;34m\u001b[0m\u001b[0m\n\u001b[1;32m   5590\u001b[0m             \u001b[0;32mif\u001b[0m \u001b[0merrors\u001b[0m \u001b[0;34m!=\u001b[0m \u001b[0;34m\"ignore\"\u001b[0m\u001b[0;34m:\u001b[0m\u001b[0;34m\u001b[0m\u001b[0;34m\u001b[0m\u001b[0m\n\u001b[0;32m-> 5591\u001b[0;31m                 \u001b[0;32mraise\u001b[0m \u001b[0mKeyError\u001b[0m\u001b[0;34m(\u001b[0m\u001b[0;34mf\"{labels[mask]} not found in axis\"\u001b[0m\u001b[0;34m)\u001b[0m\u001b[0;34m\u001b[0m\u001b[0;34m\u001b[0m\u001b[0m\n\u001b[0m\u001b[1;32m   5592\u001b[0m             \u001b[0mindexer\u001b[0m \u001b[0;34m=\u001b[0m \u001b[0mindexer\u001b[0m\u001b[0;34m[\u001b[0m\u001b[0;34m~\u001b[0m\u001b[0mmask\u001b[0m\u001b[0;34m]\u001b[0m\u001b[0;34m\u001b[0m\u001b[0;34m\u001b[0m\u001b[0m\n\u001b[1;32m   5593\u001b[0m         \u001b[0;32mreturn\u001b[0m \u001b[0mself\u001b[0m\u001b[0;34m.\u001b[0m\u001b[0mdelete\u001b[0m\u001b[0;34m(\u001b[0m\u001b[0mindexer\u001b[0m\u001b[0;34m)\u001b[0m\u001b[0;34m\u001b[0m\u001b[0;34m\u001b[0m\u001b[0m\n",
      "\u001b[0;31mKeyError\u001b[0m: \"['CoinName' 'Unnamed: 0' 'IsTrading'] not found in axis\""
     ]
    }
   ],
   "source": [
    "df = df.drop(['CoinName','Unnamed: 0','IsTrading'], axis=1)"
   ]
  },
  {
   "cell_type": "code",
   "execution_count": 19,
   "id": "80972679",
   "metadata": {},
   "outputs": [
    {
     "data": {
      "text/plain": [
       "Algorithm           object\n",
       "ProofType           object\n",
       "TotalCoinsMined    float64\n",
       "TotalCoinSupply     object\n",
       "dtype: object"
      ]
     },
     "execution_count": 19,
     "metadata": {},
     "output_type": "execute_result"
    }
   ],
   "source": [
    "df.dtypes"
   ]
  },
  {
   "cell_type": "code",
   "execution_count": 24,
   "id": "32b12619",
   "metadata": {},
   "outputs": [
    {
     "data": {
      "text/plain": [
       "Algorithm           object\n",
       "ProofType           object\n",
       "TotalCoinsMined    float64\n",
       "TotalCoinSupply    float64\n",
       "dtype: object"
      ]
     },
     "execution_count": 24,
     "metadata": {},
     "output_type": "execute_result"
    }
   ],
   "source": [
    "df['TotalCoinSupply'] = df.TotalCoinSupply.astype(float)\n"
   ]
  },
  {
   "cell_type": "code",
   "execution_count": 31,
   "id": "78ce68d7",
   "metadata": {},
   "outputs": [],
   "source": [
    "df.dummies = pd.get_dummies(df)"
   ]
  },
  {
   "cell_type": "code",
   "execution_count": 28,
   "id": "6b886878",
   "metadata": {},
   "outputs": [
    {
     "data": {
      "text/plain": [
       "98"
      ]
     },
     "execution_count": 28,
     "metadata": {},
     "output_type": "execute_result"
    }
   ],
   "source": [
    "df.dummies.columns\n",
    "len(df.dummies.columns)"
   ]
  },
  {
   "cell_type": "code",
   "execution_count": 32,
   "id": "fac1c0e9",
   "metadata": {},
   "outputs": [],
   "source": [
    "# Standarize data with StandarScaler\n",
    "df_scaled = StandardScaler().fit_transform(df.dummies)"
   ]
  },
  {
   "cell_type": "code",
   "execution_count": 35,
   "id": "8908d0cd",
   "metadata": {},
   "outputs": [],
   "source": [
    "# Applying PCA to reduce dimensions to 90%\n",
    "\n",
    "# Initialize PCA model\n",
    "pca = PCA(n_components=0.9)\n",
    "\n",
    "# Get two principal components for the iris data.\n",
    "df_pca = pca.fit_transform(df_scaled)"
   ]
  },
  {
   "cell_type": "code",
   "execution_count": 36,
   "id": "692cbf02",
   "metadata": {},
   "outputs": [
    {
     "data": {
      "text/html": [
       "<div>\n",
       "<style scoped>\n",
       "    .dataframe tbody tr th:only-of-type {\n",
       "        vertical-align: middle;\n",
       "    }\n",
       "\n",
       "    .dataframe tbody tr th {\n",
       "        vertical-align: top;\n",
       "    }\n",
       "\n",
       "    .dataframe thead th {\n",
       "        text-align: right;\n",
       "    }\n",
       "</style>\n",
       "<table border=\"1\" class=\"dataframe\">\n",
       "  <thead>\n",
       "    <tr style=\"text-align: right;\">\n",
       "      <th></th>\n",
       "      <th>0</th>\n",
       "      <th>1</th>\n",
       "      <th>2</th>\n",
       "      <th>3</th>\n",
       "      <th>4</th>\n",
       "      <th>5</th>\n",
       "      <th>6</th>\n",
       "      <th>7</th>\n",
       "      <th>8</th>\n",
       "      <th>9</th>\n",
       "      <th>...</th>\n",
       "      <th>64</th>\n",
       "      <th>65</th>\n",
       "      <th>66</th>\n",
       "      <th>67</th>\n",
       "      <th>68</th>\n",
       "      <th>69</th>\n",
       "      <th>70</th>\n",
       "      <th>71</th>\n",
       "      <th>72</th>\n",
       "      <th>73</th>\n",
       "    </tr>\n",
       "  </thead>\n",
       "  <tbody>\n",
       "    <tr>\n",
       "      <th>0</th>\n",
       "      <td>-0.335099</td>\n",
       "      <td>1.032189</td>\n",
       "      <td>-0.590713</td>\n",
       "      <td>0.001397</td>\n",
       "      <td>2.984956e-12</td>\n",
       "      <td>-5.587163e-15</td>\n",
       "      <td>-4.070858e-16</td>\n",
       "      <td>-0.007129</td>\n",
       "      <td>-1.319756</td>\n",
       "      <td>-0.051813</td>\n",
       "      <td>...</td>\n",
       "      <td>-2.470702e-15</td>\n",
       "      <td>1.891693e-15</td>\n",
       "      <td>-5.539121e-15</td>\n",
       "      <td>-1.279294e-15</td>\n",
       "      <td>-1.078497e-15</td>\n",
       "      <td>-3.351254e-15</td>\n",
       "      <td>3.226812e-15</td>\n",
       "      <td>9.572342e-16</td>\n",
       "      <td>-2.114694e-15</td>\n",
       "      <td>8.762218e-16</td>\n",
       "    </tr>\n",
       "    <tr>\n",
       "      <th>1</th>\n",
       "      <td>-0.318434</td>\n",
       "      <td>1.032331</td>\n",
       "      <td>-0.591126</td>\n",
       "      <td>0.001386</td>\n",
       "      <td>2.960484e-12</td>\n",
       "      <td>-5.826890e-15</td>\n",
       "      <td>-4.050436e-16</td>\n",
       "      <td>-0.007739</td>\n",
       "      <td>-1.322514</td>\n",
       "      <td>-0.056674</td>\n",
       "      <td>...</td>\n",
       "      <td>-2.751444e-15</td>\n",
       "      <td>1.650072e-15</td>\n",
       "      <td>-5.142541e-15</td>\n",
       "      <td>-7.870911e-16</td>\n",
       "      <td>-6.950084e-16</td>\n",
       "      <td>-3.692322e-15</td>\n",
       "      <td>3.801505e-15</td>\n",
       "      <td>2.285337e-15</td>\n",
       "      <td>-1.731003e-15</td>\n",
       "      <td>8.828233e-16</td>\n",
       "    </tr>\n",
       "    <tr>\n",
       "      <th>2</th>\n",
       "      <td>2.305468</td>\n",
       "      <td>1.656383</td>\n",
       "      <td>-0.683617</td>\n",
       "      <td>0.004731</td>\n",
       "      <td>1.016664e-11</td>\n",
       "      <td>-5.720923e-15</td>\n",
       "      <td>7.053242e-15</td>\n",
       "      <td>-0.054781</td>\n",
       "      <td>-1.542879</td>\n",
       "      <td>-0.943951</td>\n",
       "      <td>...</td>\n",
       "      <td>1.836982e-14</td>\n",
       "      <td>-1.610794e-14</td>\n",
       "      <td>4.401464e-14</td>\n",
       "      <td>9.704872e-15</td>\n",
       "      <td>-2.412961e-14</td>\n",
       "      <td>7.415236e-14</td>\n",
       "      <td>-7.963189e-14</td>\n",
       "      <td>-3.510378e-14</td>\n",
       "      <td>1.064824e-13</td>\n",
       "      <td>-6.609163e-14</td>\n",
       "    </tr>\n",
       "    <tr>\n",
       "      <th>3</th>\n",
       "      <td>-0.145184</td>\n",
       "      <td>-1.320593</td>\n",
       "      <td>0.192813</td>\n",
       "      <td>-0.001229</td>\n",
       "      <td>-2.640153e-12</td>\n",
       "      <td>2.427808e-15</td>\n",
       "      <td>-1.548256e-15</td>\n",
       "      <td>-0.002071</td>\n",
       "      <td>0.281463</td>\n",
       "      <td>0.251862</td>\n",
       "      <td>...</td>\n",
       "      <td>2.149155e-15</td>\n",
       "      <td>4.212773e-15</td>\n",
       "      <td>-2.388025e-17</td>\n",
       "      <td>-6.512118e-15</td>\n",
       "      <td>-3.653415e-15</td>\n",
       "      <td>6.466600e-15</td>\n",
       "      <td>-9.028861e-15</td>\n",
       "      <td>4.033250e-15</td>\n",
       "      <td>1.681151e-14</td>\n",
       "      <td>-9.086748e-15</td>\n",
       "    </tr>\n",
       "    <tr>\n",
       "      <th>4</th>\n",
       "      <td>-0.151768</td>\n",
       "      <td>-2.036192</td>\n",
       "      <td>0.396182</td>\n",
       "      <td>-0.001705</td>\n",
       "      <td>-3.658854e-12</td>\n",
       "      <td>-8.999548e-16</td>\n",
       "      <td>-1.106936e-15</td>\n",
       "      <td>0.027735</td>\n",
       "      <td>0.519099</td>\n",
       "      <td>0.188820</td>\n",
       "      <td>...</td>\n",
       "      <td>8.462173e-14</td>\n",
       "      <td>1.200669e-14</td>\n",
       "      <td>-4.413189e-14</td>\n",
       "      <td>1.435070e-14</td>\n",
       "      <td>1.071627e-14</td>\n",
       "      <td>-3.707038e-14</td>\n",
       "      <td>-3.236237e-14</td>\n",
       "      <td>-4.319863e-14</td>\n",
       "      <td>1.135017e-13</td>\n",
       "      <td>-1.393439e-13</td>\n",
       "    </tr>\n",
       "  </tbody>\n",
       "</table>\n",
       "<p>5 rows × 74 columns</p>\n",
       "</div>"
      ],
      "text/plain": [
       "         0         1         2         3             4             5   \\\n",
       "0 -0.335099  1.032189 -0.590713  0.001397  2.984956e-12 -5.587163e-15   \n",
       "1 -0.318434  1.032331 -0.591126  0.001386  2.960484e-12 -5.826890e-15   \n",
       "2  2.305468  1.656383 -0.683617  0.004731  1.016664e-11 -5.720923e-15   \n",
       "3 -0.145184 -1.320593  0.192813 -0.001229 -2.640153e-12  2.427808e-15   \n",
       "4 -0.151768 -2.036192  0.396182 -0.001705 -3.658854e-12 -8.999548e-16   \n",
       "\n",
       "             6         7         8         9   ...            64  \\\n",
       "0 -4.070858e-16 -0.007129 -1.319756 -0.051813  ... -2.470702e-15   \n",
       "1 -4.050436e-16 -0.007739 -1.322514 -0.056674  ... -2.751444e-15   \n",
       "2  7.053242e-15 -0.054781 -1.542879 -0.943951  ...  1.836982e-14   \n",
       "3 -1.548256e-15 -0.002071  0.281463  0.251862  ...  2.149155e-15   \n",
       "4 -1.106936e-15  0.027735  0.519099  0.188820  ...  8.462173e-14   \n",
       "\n",
       "             65            66            67            68            69  \\\n",
       "0  1.891693e-15 -5.539121e-15 -1.279294e-15 -1.078497e-15 -3.351254e-15   \n",
       "1  1.650072e-15 -5.142541e-15 -7.870911e-16 -6.950084e-16 -3.692322e-15   \n",
       "2 -1.610794e-14  4.401464e-14  9.704872e-15 -2.412961e-14  7.415236e-14   \n",
       "3  4.212773e-15 -2.388025e-17 -6.512118e-15 -3.653415e-15  6.466600e-15   \n",
       "4  1.200669e-14 -4.413189e-14  1.435070e-14  1.071627e-14 -3.707038e-14   \n",
       "\n",
       "             70            71            72            73  \n",
       "0  3.226812e-15  9.572342e-16 -2.114694e-15  8.762218e-16  \n",
       "1  3.801505e-15  2.285337e-15 -1.731003e-15  8.828233e-16  \n",
       "2 -7.963189e-14 -3.510378e-14  1.064824e-13 -6.609163e-14  \n",
       "3 -9.028861e-15  4.033250e-15  1.681151e-14 -9.086748e-15  \n",
       "4 -3.236237e-14 -4.319863e-14  1.135017e-13 -1.393439e-13  \n",
       "\n",
       "[5 rows x 74 columns]"
      ]
     },
     "execution_count": 36,
     "metadata": {},
     "output_type": "execute_result"
    }
   ],
   "source": [
    "# Transform PCA data to a DataFrame\n",
    "df_coin_pca = pd.DataFrame(\n",
    "    data=df_pca\n",
    ")\n",
    "df_coin_pca.head()"
   ]
  },
  {
   "cell_type": "code",
   "execution_count": 37,
   "id": "9b29c48e",
   "metadata": {},
   "outputs": [
    {
     "data": {
      "image/png": "[encoded data removed]",
      "text/plain": [
       "<Figure size 432x288 with 1 Axes>"
      ]
     },
     "metadata": {
      "needs_background": "light"
     },
     "output_type": "display_data"
    }
   ],
   "source": [
    "# Finding the best value for k\n",
    "inertia = []\n",
    "k = list(range(1, 11))\n",
    "\n",
    "# Calculate the inertia for the range of k values\n",
    "for i in k:\n",
    "    km = KMeans(n_clusters=i, random_state=0)\n",
    "    km.fit(df_coin_pca)\n",
    "    inertia.append(km.inertia_)\n",
    "\n",
    "# Creating the Elbow Curve\n",
    "elbow_data = {\"k\": k, \"inertia\": inertia}\n",
    "df_elbow = pd.DataFrame(elbow_data)\n",
    "\n",
    "plt.plot(df_elbow['k'], df_elbow['inertia'])\n",
    "plt.xticks(list(range(11)))\n",
    "plt.title('Elbow Curve')\n",
    "plt.xlabel('Number of clusters')\n",
    "plt.ylabel('Inertia')\n",
    "plt.show()"
   ]
  },
  {
   "cell_type": "code",
   "execution_count": null,
   "id": "0a46b003",
   "metadata": {},
   "outputs": [],
   "source": []
  }
 ],
 "metadata": {
  "kernelspec": {
   "display_name": "Python 3",
   "language": "python",
   "name": "python3"
  },
  "language_info": {
   "codemirror_mode": {
    "name": "ipython",
    "version": 3
   },
   "file_extension": ".py",
   "mimetype": "text/x-python",
   "name": "python",
   "nbconvert_exporter": "python",
   "pygments_lexer": "ipython3",
   "version": "3.8.8"
  }
 },
 "nbformat": 4,
 "nbformat_minor": 5
}
